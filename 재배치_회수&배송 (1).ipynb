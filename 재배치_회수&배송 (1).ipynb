{
 "cells": [
  {
   "cell_type": "code",
   "execution_count": 1,
   "id": "a8f92da6-c890-40fe-8fe5-ef3160b71e70",
   "metadata": {},
   "outputs": [],
   "source": [
    "# ------ 요청사항 ------\n",
    "\n",
    "# 0. 파일 경로 \n",
    "# file_path = r\"D:\\pythondata\\★_재배치_회수.csv\"\n",
    "# file_path = r\"D:\\pythondata\\★_재배치_배송.csv\"\n",
    "# 1. 먼저, 두 파일을 하나의 파일로 합친 후 \n",
    "# 2. 회수 파일과 배송 파일을 구분하기 위해서 \"구분\"이라는 이름의 필드를 마지막 컬럼으로 생성해서 적어두면 좋겠어요.\n",
    "# 3. 원본데이터 필드는 \"자전거번호,대여소,대여소명,날짜,시간\"이고, \"날짜+시간\"이라는 필드를 만들어 주세요.\n",
    "# 4. \"대여소, 날짜, 시간\"으로 정렬(sorting)하고 시작하는데,\n",
    "# 5. No라는 컬럼을 가장 왼쪽에 생성하고, 정렬 순서(단순 정렬 개념)에 따라서 제일 윗줄부터 1로 시작하면 좋겠어요.\n",
    "# 6. 이 파일을 \"5-1_회수배송_데이터(1)\"라는 이름으로 csv파일을 저장해 주세요.\n",
    "# 7. 정리하면, \"두 개 파일(★_재배치_회수.csv, ★_재배치_배송.csv)을 합쳐서 \"구분\"이라는 이름의 필드와 \n",
    "#    \"No\"라는 이름의 필드, \"날짜+시간\" 필드를 새로 만든다. \n",
    "#    \"대여소\"가 낮은 순서(102번부터 시작)이면서 \"날짜+시간\" 필드가 \n",
    "#    빠른 순서(오름차순 정렬, 2023년 1월 1일 0시 0분 0초부터)로 정렬. 정렬된 순서에 따라서 \"No\"의 번호 넣기\" 입니다!"
   ]
  },
  {
   "cell_type": "code",
   "execution_count": 2,
   "id": "9db7c6ec-c564-4e5c-a5bb-b43d107d4a98",
   "metadata": {},
   "outputs": [
    {
     "name": "stdout",
     "output_type": "stream",
     "text": [
      "✅ 5-1 파일 저장 완료! D:\\pythondata\\5-1_회수배송_데이터(1).csv\n"
     ]
    }
   ],
   "source": [
    "import pandas as pd\n",
    "\n",
    "# 0. 파일 경로\n",
    "path_retrieve = r\"D:\\pythondata\\★_재배치_회수.csv\"\n",
    "path_delivery = r\"D:\\pythondata\\★_재배치_배송.csv\"\n",
    "\n",
    "# 1. 파일 불러오기 (탭 구분자 + 인코딩 처리 + 대여소 문자 처리)\n",
    "df_retrieve = pd.read_csv(path_retrieve, encoding='utf-8-sig', sep=\"\\t\", dtype={'대여소': str})\n",
    "df_delivery = pd.read_csv(path_delivery, encoding='utf-8-sig', sep=\"\\t\", dtype={'대여소': str})\n",
    "\n",
    "# 2. '구분' 필드 추가 (일단 추가는 지금 하고, 나중에 마지막 컬럼으로 이동)\n",
    "df_retrieve['구분'] = '회수'\n",
    "df_delivery['구분'] = '배송'\n",
    "\n",
    "# 3. 병합\n",
    "df = pd.concat([df_retrieve, df_delivery], ignore_index=True)\n",
    "\n",
    "# 4. '날짜+시간' 필드 생성\n",
    "df['날짜+시간'] = pd.to_datetime(df['날짜'] + ' ' + df['시간'])\n",
    "\n",
    "# 5. 정렬 기준: ① 대여소 번호를 숫자로 변환해서 정렬 (102가 위로) ② 날짜+시간 오름차순\n",
    "df['대여소_정렬용'] = pd.to_numeric(df['대여소'], errors='coerce')  # 숫자로 변환 불가능한 것은 NaN 처리\n",
    "df = df.sort_values(by=['대여소_정렬용', '날짜+시간']).reset_index(drop=True)\n",
    "df.drop(columns='대여소_정렬용', inplace=True)  # 임시 정렬 컬럼 제거\n",
    "\n",
    "# 6. No 필드 추가 (가장 왼쪽에 삽입)\n",
    "df.insert(0, 'No', df.index + 1)\n",
    "\n",
    "# 7. 컬럼 순서 정리: '구분'은 마지막으로 이동\n",
    "cols = [col for col in df.columns if col != '구분'] + ['구분']\n",
    "df = df[cols]\n",
    "\n",
    "# 8. 저장 및 완료 메시지\n",
    "output_path = r\"D:\\pythondata\\5-1_회수배송_데이터(1).csv\"\n",
    "df.to_csv(output_path, index=False, encoding='utf-8-sig')\n",
    "\n",
    "print(\"✅ 5-1 파일 저장 완료!\", output_path)"
   ]
  }
 ],
 "metadata": {
  "kernelspec": {
   "display_name": "Python 3 (ipykernel)",
   "language": "python",
   "name": "python3"
  },
  "language_info": {
   "codemirror_mode": {
    "name": "ipython",
    "version": 3
   },
   "file_extension": ".py",
   "mimetype": "text/x-python",
   "name": "python",
   "nbconvert_exporter": "python",
   "pygments_lexer": "ipython3",
   "version": "3.9.12"
  }
 },
 "nbformat": 4,
 "nbformat_minor": 5
}
